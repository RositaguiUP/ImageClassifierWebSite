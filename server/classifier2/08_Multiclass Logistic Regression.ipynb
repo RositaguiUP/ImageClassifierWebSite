{
 "cells": [
  {
   "attachments": {},
   "cell_type": "markdown",
   "metadata": {},
   "source": [
    "# Multinomial logistic regression\n",
    "\n",
    "Multinomial logistic regression is used to predict categorical placement in or the probability of category membership on a dependent variable based on multiple independent variables. The independent variables can be either dichotomous (i.e., binary) or continuous (i.e., interval or ratio in scale). Multinomial logistic regression is a simple extension of binary logistic regression that allows for more than two categories of the dependent or outcome variable. Like binary logistic regression, multinomial logistic regression uses maximum likelihood estimation to evaluate the probability of categorical membership.   \n",
    "\n",
    "Multinomial logistic regression does necessitate careful consideration of the sample size and examination for outlying cases. Like other data analysis procedures, initial data analysis should be thorough and include careful univariate, bivariate, and multivariate assessment. Specifically, multicollinearity should be evaluated with simple correlations among the independent variables. Also, multivariate diagnostics (i.e. standard multiple regression) can be used to assess for multivariate outliers and for the exclusion of outliers or influential cases. Sample size guidelines for multinomial logistic regression indicate a minimum of 10 cases per independent variable (Schwab, 2002).  "
   ]
  },
  {
   "cell_type": "code",
   "execution_count": 31,
   "metadata": {},
   "outputs": [
    {
     "name": "stdout",
     "output_type": "stream",
     "text": [
      "Requirement already satisfied: numpy in c:\\python\\python 379\\lib\\site-packages (1.21.6)\n",
      "Note: you may need to restart the kernel to use updated packages.\n"
     ]
    },
    {
     "name": "stderr",
     "output_type": "stream",
     "text": [
      "WARNING: You are using pip version 20.1.1; however, version 23.1.2 is available.\n",
      "You should consider upgrading via the 'c:\\Python\\Python 379\\python.exe -m pip install --upgrade pip' command.\n"
     ]
    },
    {
     "name": "stdout",
     "output_type": "stream",
     "text": [
      "Requirement already satisfied: ipywidgets in c:\\python\\python 379\\lib\\site-packages (8.0.6)\n",
      "Requirement already satisfied: ipython>=6.1.0 in c:\\users\\administrator\\appdata\\roaming\\python\\python37\\site-packages (from ipywidgets) (7.34.0)\n",
      "Requirement already satisfied: ipykernel>=4.5.1 in c:\\users\\administrator\\appdata\\roaming\\python\\python37\\site-packages (from ipywidgets) (6.16.2)\n",
      "Requirement already satisfied: traitlets>=4.3.1 in c:\\users\\administrator\\appdata\\roaming\\python\\python37\\site-packages (from ipywidgets) (5.9.0)\n",
      "Requirement already satisfied: jupyterlab-widgets~=3.0.7 in c:\\python\\python 379\\lib\\site-packages (from ipywidgets) (3.0.7)\n",
      "Requirement already satisfied: widgetsnbextension~=4.0.7 in c:\\python\\python 379\\lib\\site-packages (from ipywidgets) (4.0.7)\n",
      "Requirement already satisfied: pygments in c:\\users\\administrator\\appdata\\roaming\\python\\python37\\site-packages (from ipython>=6.1.0->ipywidgets) (2.15.1)\n",
      "Requirement already satisfied: matplotlib-inline in c:\\users\\administrator\\appdata\\roaming\\python\\python37\\site-packages (from ipython>=6.1.0->ipywidgets) (0.1.6)\n",
      "Requirement already satisfied: prompt-toolkit!=3.0.0,!=3.0.1,<3.1.0,>=2.0.0 in c:\\users\\administrator\\appdata\\roaming\\python\\python37\\site-packages (from ipython>=6.1.0->ipywidgets) (3.0.38)\n",
      "Requirement already satisfied: colorama; sys_platform == \"win32\" in c:\\users\\administrator\\appdata\\roaming\\python\\python37\\site-packages (from ipython>=6.1.0->ipywidgets) (0.4.6)\n",
      "Requirement already satisfied: backcall in c:\\users\\administrator\\appdata\\roaming\\python\\python37\\site-packages (from ipython>=6.1.0->ipywidgets) (0.2.0)\n",
      "Requirement already satisfied: setuptools>=18.5 in c:\\python\\python 379\\lib\\site-packages (from ipython>=6.1.0->ipywidgets) (47.1.0)\n",
      "Requirement already satisfied: pickleshare in c:\\users\\administrator\\appdata\\roaming\\python\\python37\\site-packages (from ipython>=6.1.0->ipywidgets) (0.7.5)\n",
      "Requirement already satisfied: decorator in c:\\users\\administrator\\appdata\\roaming\\python\\python37\\site-packages (from ipython>=6.1.0->ipywidgets) (5.1.1)\n",
      "Requirement already satisfied: jedi>=0.16 in c:\\users\\administrator\\appdata\\roaming\\python\\python37\\site-packages (from ipython>=6.1.0->ipywidgets) (0.18.2)\n",
      "Requirement already satisfied: nest-asyncio in c:\\users\\administrator\\appdata\\roaming\\python\\python37\\site-packages (from ipykernel>=4.5.1->ipywidgets) (1.5.6)\n",
      "Requirement already satisfied: packaging in c:\\users\\administrator\\appdata\\roaming\\python\\python37\\site-packages (from ipykernel>=4.5.1->ipywidgets) (23.1)\n",
      "Requirement already satisfied: psutil in c:\\users\\administrator\\appdata\\roaming\\python\\python37\\site-packages (from ipykernel>=4.5.1->ipywidgets) (5.9.5)\n",
      "Requirement already satisfied: pyzmq>=17 in c:\\users\\administrator\\appdata\\roaming\\python\\python37\\site-packages (from ipykernel>=4.5.1->ipywidgets) (25.1.0)\n",
      "Requirement already satisfied: debugpy>=1.0 in c:\\users\\administrator\\appdata\\roaming\\python\\python37\\site-packages (from ipykernel>=4.5.1->ipywidgets) (1.6.7)\n",
      "Requirement already satisfied: tornado>=6.1 in c:\\users\\administrator\\appdata\\roaming\\python\\python37\\site-packages (from ipykernel>=4.5.1->ipywidgets) (6.2)\n",
      "Requirement already satisfied: jupyter-client>=6.1.12 in c:\\users\\administrator\\appdata\\roaming\\python\\python37\\site-packages (from ipykernel>=4.5.1->ipywidgets) (7.4.9)\n",
      "Requirement already satisfied: wcwidth in c:\\users\\administrator\\appdata\\roaming\\python\\python37\\site-packages (from prompt-toolkit!=3.0.0,!=3.0.1,<3.1.0,>=2.0.0->ipython>=6.1.0->ipywidgets) (0.2.6)\n",
      "Requirement already satisfied: parso<0.9.0,>=0.8.0 in c:\\users\\administrator\\appdata\\roaming\\python\\python37\\site-packages (from jedi>=0.16->ipython>=6.1.0->ipywidgets) (0.8.3)\n",
      "Requirement already satisfied: jupyter-core>=4.9.2 in c:\\users\\administrator\\appdata\\roaming\\python\\python37\\site-packages (from jupyter-client>=6.1.12->ipykernel>=4.5.1->ipywidgets) (4.12.0)\n",
      "Requirement already satisfied: python-dateutil>=2.8.2 in c:\\users\\administrator\\appdata\\roaming\\python\\python37\\site-packages (from jupyter-client>=6.1.12->ipykernel>=4.5.1->ipywidgets) (2.8.2)\n",
      "Requirement already satisfied: entrypoints in c:\\users\\administrator\\appdata\\roaming\\python\\python37\\site-packages (from jupyter-client>=6.1.12->ipykernel>=4.5.1->ipywidgets) (0.4)\n",
      "Requirement already satisfied: pywin32>=1.0; sys_platform == \"win32\" and platform_python_implementation != \"PyPy\" in c:\\users\\administrator\\appdata\\roaming\\python\\python37\\site-packages (from jupyter-core>=4.9.2->jupyter-client>=6.1.12->ipykernel>=4.5.1->ipywidgets) (306)\n",
      "Requirement already satisfied: six>=1.5 in c:\\users\\administrator\\appdata\\roaming\\python\\python37\\site-packages (from python-dateutil>=2.8.2->jupyter-client>=6.1.12->ipykernel>=4.5.1->ipywidgets) (1.16.0)\n",
      "Note: you may need to restart the kernel to use updated packages.\n"
     ]
    },
    {
     "name": "stderr",
     "output_type": "stream",
     "text": [
      "WARNING: You are using pip version 20.1.1; however, version 23.1.2 is available.\n",
      "You should consider upgrading via the 'c:\\Python\\Python 379\\python.exe -m pip install --upgrade pip' command.\n"
     ]
    },
    {
     "name": "stdout",
     "output_type": "stream",
     "text": [
      "Requirement already satisfied: pandas in c:\\python\\python 379\\lib\\site-packages (1.3.5)\n",
      "Requirement already satisfied: numpy>=1.17.3; platform_machine != \"aarch64\" and platform_machine != \"arm64\" and python_version < \"3.10\" in c:\\python\\python 379\\lib\\site-packages (from pandas) (1.21.6)\n",
      "Requirement already satisfied: python-dateutil>=2.7.3 in c:\\users\\administrator\\appdata\\roaming\\python\\python37\\site-packages (from pandas) (2.8.2)\n",
      "Requirement already satisfied: pytz>=2017.3 in c:\\python\\python 379\\lib\\site-packages (from pandas) (2023.3)\n",
      "Requirement already satisfied: six>=1.5 in c:\\users\\administrator\\appdata\\roaming\\python\\python37\\site-packages (from python-dateutil>=2.7.3->pandas) (1.16.0)\n",
      "Note: you may need to restart the kernel to use updated packages.\n"
     ]
    },
    {
     "name": "stderr",
     "output_type": "stream",
     "text": [
      "WARNING: You are using pip version 20.1.1; however, version 23.1.2 is available.\n",
      "You should consider upgrading via the 'c:\\Python\\Python 379\\python.exe -m pip install --upgrade pip' command.\n"
     ]
    },
    {
     "name": "stdout",
     "output_type": "stream",
     "text": [
      "Requirement already satisfied: matplotlib in c:\\python\\python 379\\lib\\site-packages (3.5.3)\n",
      "Requirement already satisfied: packaging>=20.0 in c:\\users\\administrator\\appdata\\roaming\\python\\python37\\site-packages (from matplotlib) (23.1)\n",
      "Requirement already satisfied: pillow>=6.2.0 in c:\\python\\python 379\\lib\\site-packages (from matplotlib) (9.5.0)\n",
      "Requirement already satisfied: kiwisolver>=1.0.1 in c:\\python\\python 379\\lib\\site-packages (from matplotlib) (1.4.4)\n",
      "Requirement already satisfied: numpy>=1.17 in c:\\python\\python 379\\lib\\site-packages (from matplotlib) (1.21.6)\n",
      "Requirement already satisfied: fonttools>=4.22.0 in c:\\python\\python 379\\lib\\site-packages (from matplotlib) (4.38.0)\n",
      "Requirement already satisfied: cycler>=0.10 in c:\\python\\python 379\\lib\\site-packages (from matplotlib) (0.11.0)\n",
      "Requirement already satisfied: python-dateutil>=2.7 in c:\\users\\administrator\\appdata\\roaming\\python\\python37\\site-packages (from matplotlib) (2.8.2)\n",
      "Requirement already satisfied: pyparsing>=2.2.1 in c:\\python\\python 379\\lib\\site-packages (from matplotlib) (3.0.9)\n",
      "Requirement already satisfied: typing-extensions; python_version < \"3.8\" in c:\\python\\python 379\\lib\\site-packages (from kiwisolver>=1.0.1->matplotlib) (4.6.2)\n",
      "Requirement already satisfied: six>=1.5 in c:\\users\\administrator\\appdata\\roaming\\python\\python37\\site-packages (from python-dateutil>=2.7->matplotlib) (1.16.0)\n",
      "Note: you may need to restart the kernel to use updated packages.\n"
     ]
    },
    {
     "name": "stderr",
     "output_type": "stream",
     "text": [
      "WARNING: You are using pip version 20.1.1; however, version 23.1.2 is available.\n",
      "You should consider upgrading via the 'c:\\Python\\Python 379\\python.exe -m pip install --upgrade pip' command.\n"
     ]
    },
    {
     "name": "stdout",
     "output_type": "stream",
     "text": [
      "Requirement already satisfied: ipympl in c:\\python\\python 379\\lib\\site-packages (0.9.3)\n",
      "Requirement already satisfied: matplotlib<4,>=3.4.0 in c:\\python\\python 379\\lib\\site-packages (from ipympl) (3.5.3)\n",
      "Requirement already satisfied: traitlets<6 in c:\\users\\administrator\\appdata\\roaming\\python\\python37\\site-packages (from ipympl) (5.9.0)\n",
      "Requirement already satisfied: ipython-genutils in c:\\python\\python 379\\lib\\site-packages (from ipympl) (0.2.0)\n",
      "Requirement already satisfied: pillow in c:\\python\\python 379\\lib\\site-packages (from ipympl) (9.5.0)\n",
      "Requirement already satisfied: ipywidgets<9,>=7.6.0 in c:\\python\\python 379\\lib\\site-packages (from ipympl) (8.0.6)\n",
      "Requirement already satisfied: ipython<9 in c:\\users\\administrator\\appdata\\roaming\\python\\python37\\site-packages (from ipympl) (7.34.0)\n",
      "Requirement already satisfied: numpy in c:\\python\\python 379\\lib\\site-packages (from ipympl) (1.21.6)\n",
      "Requirement already satisfied: packaging>=20.0 in c:\\users\\administrator\\appdata\\roaming\\python\\python37\\site-packages (from matplotlib<4,>=3.4.0->ipympl) (23.1)\n",
      "Requirement already satisfied: kiwisolver>=1.0.1 in c:\\python\\python 379\\lib\\site-packages (from matplotlib<4,>=3.4.0->ipympl) (1.4.4)\n",
      "Requirement already satisfied: python-dateutil>=2.7 in c:\\users\\administrator\\appdata\\roaming\\python\\python37\\site-packages (from matplotlib<4,>=3.4.0->ipympl) (2.8.2)\n",
      "Requirement already satisfied: pyparsing>=2.2.1 in c:\\python\\python 379\\lib\\site-packages (from matplotlib<4,>=3.4.0->ipympl) (3.0.9)\n",
      "Requirement already satisfied: cycler>=0.10 in c:\\python\\python 379\\lib\\site-packages (from matplotlib<4,>=3.4.0->ipympl) (0.11.0)\n",
      "Requirement already satisfied: fonttools>=4.22.0 in c:\\python\\python 379\\lib\\site-packages (from matplotlib<4,>=3.4.0->ipympl) (4.38.0)\n",
      "Requirement already satisfied: jupyterlab-widgets~=3.0.7 in c:\\python\\python 379\\lib\\site-packages (from ipywidgets<9,>=7.6.0->ipympl) (3.0.7)\n",
      "Requirement already satisfied: widgetsnbextension~=4.0.7 in c:\\python\\python 379\\lib\\site-packages (from ipywidgets<9,>=7.6.0->ipympl) (4.0.7)\n",
      "Requirement already satisfied: ipykernel>=4.5.1 in c:\\users\\administrator\\appdata\\roaming\\python\\python37\\site-packages (from ipywidgets<9,>=7.6.0->ipympl) (6.16.2)\n",
      "Requirement already satisfied: jedi>=0.16 in c:\\users\\administrator\\appdata\\roaming\\python\\python37\\site-packages (from ipython<9->ipympl) (0.18.2)\n",
      "Requirement already satisfied: colorama; sys_platform == \"win32\" in c:\\users\\administrator\\appdata\\roaming\\python\\python37\\site-packages (from ipython<9->ipympl) (0.4.6)\n",
      "Requirement already satisfied: pickleshare in c:\\users\\administrator\\appdata\\roaming\\python\\python37\\site-packages (from ipython<9->ipympl) (0.7.5)\n",
      "Requirement already satisfied: setuptools>=18.5 in c:\\python\\python 379\\lib\\site-packages (from ipython<9->ipympl) (47.1.0)\n",
      "Requirement already satisfied: decorator in c:\\users\\administrator\\appdata\\roaming\\python\\python37\\site-packages (from ipython<9->ipympl) (5.1.1)\n",
      "Requirement already satisfied: prompt-toolkit!=3.0.0,!=3.0.1,<3.1.0,>=2.0.0 in c:\\users\\administrator\\appdata\\roaming\\python\\python37\\site-packages (from ipython<9->ipympl) (3.0.38)\n",
      "Requirement already satisfied: backcall in c:\\users\\administrator\\appdata\\roaming\\python\\python37\\site-packages (from ipython<9->ipympl) (0.2.0)\n",
      "Requirement already satisfied: matplotlib-inline in c:\\users\\administrator\\appdata\\roaming\\python\\python37\\site-packages (from ipython<9->ipympl) (0.1.6)\n",
      "Requirement already satisfied: pygments in c:\\users\\administrator\\appdata\\roaming\\python\\python37\\site-packages (from ipython<9->ipympl) (2.15.1)\n",
      "Requirement already satisfied: typing-extensions; python_version < \"3.8\" in c:\\python\\python 379\\lib\\site-packages (from kiwisolver>=1.0.1->matplotlib<4,>=3.4.0->ipympl) (4.6.2)\n",
      "Requirement already satisfied: six>=1.5 in c:\\users\\administrator\\appdata\\roaming\\python\\python37\\site-packages (from python-dateutil>=2.7->matplotlib<4,>=3.4.0->ipympl) (1.16.0)\n",
      "Requirement already satisfied: jupyter-client>=6.1.12 in c:\\users\\administrator\\appdata\\roaming\\python\\python37\\site-packages (from ipykernel>=4.5.1->ipywidgets<9,>=7.6.0->ipympl) (7.4.9)\n",
      "Requirement already satisfied: pyzmq>=17 in c:\\users\\administrator\\appdata\\roaming\\python\\python37\\site-packages (from ipykernel>=4.5.1->ipywidgets<9,>=7.6.0->ipympl) (25.1.0)\n",
      "Requirement already satisfied: psutil in c:\\users\\administrator\\appdata\\roaming\\python\\python37\\site-packages (from ipykernel>=4.5.1->ipywidgets<9,>=7.6.0->ipympl) (5.9.5)\n",
      "Requirement already satisfied: nest-asyncio in c:\\users\\administrator\\appdata\\roaming\\python\\python37\\site-packages (from ipykernel>=4.5.1->ipywidgets<9,>=7.6.0->ipympl) (1.5.6)\n",
      "Requirement already satisfied: tornado>=6.1 in c:\\users\\administrator\\appdata\\roaming\\python\\python37\\site-packages (from ipykernel>=4.5.1->ipywidgets<9,>=7.6.0->ipympl) (6.2)\n",
      "Requirement already satisfied: debugpy>=1.0 in c:\\users\\administrator\\appdata\\roaming\\python\\python37\\site-packages (from ipykernel>=4.5.1->ipywidgets<9,>=7.6.0->ipympl) (1.6.7)\n",
      "Requirement already satisfied: parso<0.9.0,>=0.8.0 in c:\\users\\administrator\\appdata\\roaming\\python\\python37\\site-packages (from jedi>=0.16->ipython<9->ipympl) (0.8.3)\n",
      "Requirement already satisfied: wcwidth in c:\\users\\administrator\\appdata\\roaming\\python\\python37\\site-packages (from prompt-toolkit!=3.0.0,!=3.0.1,<3.1.0,>=2.0.0->ipython<9->ipympl) (0.2.6)\n",
      "Requirement already satisfied: entrypoints in c:\\users\\administrator\\appdata\\roaming\\python\\python37\\site-packages (from jupyter-client>=6.1.12->ipykernel>=4.5.1->ipywidgets<9,>=7.6.0->ipympl) (0.4)\n",
      "Requirement already satisfied: jupyter-core>=4.9.2 in c:\\users\\administrator\\appdata\\roaming\\python\\python37\\site-packages (from jupyter-client>=6.1.12->ipykernel>=4.5.1->ipywidgets<9,>=7.6.0->ipympl) (4.12.0)\n",
      "Requirement already satisfied: pywin32>=1.0; sys_platform == \"win32\" and platform_python_implementation != \"PyPy\" in c:\\users\\administrator\\appdata\\roaming\\python\\python37\\site-packages (from jupyter-core>=4.9.2->jupyter-client>=6.1.12->ipykernel>=4.5.1->ipywidgets<9,>=7.6.0->ipympl) (306)\n",
      "Note: you may need to restart the kernel to use updated packages.\n"
     ]
    },
    {
     "name": "stderr",
     "output_type": "stream",
     "text": [
      "WARNING: You are using pip version 20.1.1; however, version 23.1.2 is available.\n",
      "You should consider upgrading via the 'c:\\Python\\Python 379\\python.exe -m pip install --upgrade pip' command.\n"
     ]
    },
    {
     "name": "stdout",
     "output_type": "stream",
     "text": [
      "Requirement already satisfied: scikit-learn in c:\\python\\python 379\\lib\\site-packages (1.0.2)\n",
      "Requirement already satisfied: scipy>=1.1.0 in c:\\python\\python 379\\lib\\site-packages (from scikit-learn) (1.7.3)\n",
      "Requirement already satisfied: numpy>=1.14.6 in c:\\python\\python 379\\lib\\site-packages (from scikit-learn) (1.21.6)\n",
      "Requirement already satisfied: threadpoolctl>=2.0.0 in c:\\python\\python 379\\lib\\site-packages (from scikit-learn) (3.1.0)\n",
      "Requirement already satisfied: joblib>=0.11 in c:\\python\\python 379\\lib\\site-packages (from scikit-learn) (1.2.0)\n",
      "Note: you may need to restart the kernel to use updated packages.\n"
     ]
    },
    {
     "name": "stderr",
     "output_type": "stream",
     "text": [
      "WARNING: You are using pip version 20.1.1; however, version 23.1.2 is available.\n",
      "You should consider upgrading via the 'c:\\Python\\Python 379\\python.exe -m pip install --upgrade pip' command.\n"
     ]
    }
   ],
   "source": [
    "%pip install numpy\n",
    "%pip install ipywidgets\n",
    "%pip install pandas\n",
    "%pip install matplotlib\n",
    "%pip install ipympl\n",
    "%pip install scikit-learn"
   ]
  },
  {
   "cell_type": "code",
   "execution_count": 1,
   "metadata": {},
   "outputs": [],
   "source": [
    "import copy, math\n",
    "import numpy as np\n",
    "import pandas as pd\n",
    "%matplotlib widget\n",
    "import matplotlib.pyplot as plt\n",
    "from ipywidgets import Output\n",
    "from plt_overfit import overfit_example, output\n",
    "from lab_utils_logistic import sigmoid\n",
    "# plt.style.use('./deeplearning.mplstyle')"
   ]
  },
  {
   "attachments": {},
   "cell_type": "markdown",
   "metadata": {},
   "source": [
    "As any of the other regression algorithms we need a cost function, a gradient function and finally we will use it to do our approximation with the gradient descent algorithm."
   ]
  },
  {
   "attachments": {},
   "cell_type": "markdown",
   "metadata": {},
   "source": [
    "### Cost function (logistic)\n",
    "_____\n",
    "\n",
    "We will reuse the same cost function that we developed for binary logistic regression"
   ]
  },
  {
   "cell_type": "code",
   "execution_count": 33,
   "metadata": {},
   "outputs": [],
   "source": [
    "def compute_cost_logistic_reg(X, y, w, b, lambda_ = 1):\n",
    "    \"\"\"\n",
    "    Computes the cost over all examples\n",
    "    Args:\n",
    "    Args:\n",
    "      X (ndarray (m,n): Data, m examples with n features\n",
    "      y (ndarray (m,)): target values\n",
    "      w (ndarray (n,)): model parameters  \n",
    "      b (scalar)      : model parameter\n",
    "      lambda_ (scalar): Controls amount of regularization\n",
    "    Returns:\n",
    "      total_cost (scalar):  cost \n",
    "    \"\"\"\n",
    "\n",
    "    m,n  = X.shape\n",
    "    cost = 0.\n",
    "    for i in range(m):\n",
    "        z_i = np.dot(X[i], w) + b                                      #(n,)(n,)=scalar, see np.dot\n",
    "        f_wb_i = sigmoid(z_i)                                          #scalar\n",
    "        if f_wb_i == 0:\n",
    "          f_wb_i = 0.0000000000000001         \n",
    "        cost +=  -y[i]*np.log(f_wb_i) - (1-y[i])*np.log(1-f_wb_i)      #scalar\n",
    "        \n",
    "    cost = cost/m                                                      #scalar\n",
    "\n",
    "    reg_cost = 0\n",
    "    for j in range(n):\n",
    "        reg_cost += (w[j]**2)                                          #scalar\n",
    "    reg_cost = (lambda_/(2*m)) * reg_cost                              #scalar\n",
    "    \n",
    "    total_cost = cost + reg_cost                                       #scalar\n",
    "    return total_cost    "
   ]
  },
  {
   "attachments": {},
   "cell_type": "markdown",
   "metadata": {},
   "source": [
    "Let´s test it just to make sure it is as expected."
   ]
  },
  {
   "cell_type": "code",
   "execution_count": 34,
   "metadata": {},
   "outputs": [
    {
     "name": "stdout",
     "output_type": "stream",
     "text": [
      "Regularized cost: 0.6850849138741673\n"
     ]
    }
   ],
   "source": [
    "np.random.seed(1)\n",
    "X_tmp = np.random.rand(5,6)\n",
    "y_tmp = np.array([0,1,0,1,0])\n",
    "w_tmp = np.random.rand(X_tmp.shape[1]).reshape(-1,)-0.5\n",
    "b_tmp = 0.5\n",
    "lambda_tmp = 0.7\n",
    "cost_tmp = compute_cost_logistic_reg(X_tmp, y_tmp, w_tmp, b_tmp, lambda_tmp)\n",
    "\n",
    "print(\"Regularized cost:\", cost_tmp)"
   ]
  },
  {
   "attachments": {},
   "cell_type": "markdown",
   "metadata": {},
   "source": [
    "### Gradient function (logistic)\n",
    "_____\n",
    "We will also reuse the gradient function"
   ]
  },
  {
   "cell_type": "code",
   "execution_count": 35,
   "metadata": {},
   "outputs": [],
   "source": [
    "def compute_gradient_logistic_reg(X, y, w, b, lambda_): \n",
    "    \"\"\"\n",
    "    Computes the gradient for linear regression \n",
    " \n",
    "    Args:\n",
    "      X (ndarray (m,n): Data, m examples with n features\n",
    "      y (ndarray (m,)): target values\n",
    "      w (ndarray (n,)): model parameters  \n",
    "      b (scalar)      : model parameter\n",
    "      lambda_ (scalar): Controls amount of regularization\n",
    "    Returns\n",
    "      dj_dw (ndarray Shape (n,)): The gradient of the cost w.r.t. the parameters w. \n",
    "      dj_db (scalar)            : The gradient of the cost w.r.t. the parameter b. \n",
    "    \"\"\"\n",
    "    m,n = X.shape\n",
    "    dj_dw = np.zeros((n,))                            #(n,)\n",
    "    dj_db = 0.0                                       #scalar\n",
    "\n",
    "    for i in range(m):\n",
    "        f_wb_i = sigmoid(np.dot(X[i],w) + b)          #(n,)(n,)=scalar\n",
    "        err_i  = f_wb_i  - y[i]                       #scalar\n",
    "        for j in range(n):\n",
    "            dj_dw[j] = dj_dw[j] + err_i * X[i,j]      #scalar\n",
    "        dj_db = dj_db + err_i\n",
    "    dj_dw = dj_dw/m                                   #(n,)\n",
    "    dj_db = dj_db/m                                   #scalar\n",
    "\n",
    "    for j in range(n):\n",
    "        dj_dw[j] = dj_dw[j] + (lambda_/m) * w[j]\n",
    "\n",
    "    return dj_db, dj_dw  "
   ]
  },
  {
   "attachments": {},
   "cell_type": "markdown",
   "metadata": {},
   "source": [
    "Let's also test it."
   ]
  },
  {
   "cell_type": "code",
   "execution_count": 36,
   "metadata": {},
   "outputs": [
    {
     "name": "stdout",
     "output_type": "stream",
     "text": [
      "dj_db: 0.341798994972791\n",
      "Regularized dj_dw:\n",
      " [0.17380012933994293, 0.32007507881566943, 0.10776313396851499]\n"
     ]
    }
   ],
   "source": [
    "np.random.seed(1)\n",
    "X_tmp = np.random.rand(5,3)\n",
    "y_tmp = np.array([0,1,0,1,0])\n",
    "w_tmp = np.random.rand(X_tmp.shape[1])\n",
    "b_tmp = 0.5\n",
    "lambda_tmp = 0.7\n",
    "dj_db_tmp, dj_dw_tmp = compute_gradient_logistic_reg(X_tmp, y_tmp, w_tmp, b_tmp, lambda_tmp)\n",
    "\n",
    "print(f\"dj_db: {dj_db_tmp}\", )\n",
    "print(f\"Regularized dj_dw:\\n {dj_dw_tmp.tolist()}\", )"
   ]
  },
  {
   "attachments": {},
   "cell_type": "markdown",
   "metadata": {},
   "source": [
    "### Gradient descent \n",
    "_____"
   ]
  },
  {
   "cell_type": "code",
   "execution_count": 37,
   "metadata": {},
   "outputs": [],
   "source": [
    "def gradient_descent(X, y, w_in, b_in, alpha, r_lambda, num_iters): \n",
    "    \"\"\"\n",
    "    Performs batch gradient descent\n",
    "    \n",
    "    Args:\n",
    "      X (ndarray (m,n)   : Data, m examples with n features\n",
    "      y (ndarray (m,))   : target values\n",
    "      w_in (ndarray (n,)): Initial values of model parameters  \n",
    "      b_in (scalar)      : Initial values of model parameter\n",
    "      alpha (float)      : Learning rate\n",
    "      r_lambda (float)     : Regularization rate\n",
    "      num_iters (scalar) : number of iterations to run gradient descent\n",
    "      \n",
    "    Returns:\n",
    "      w (ndarray (n,))   : Updated values of parameters\n",
    "      b (scalar)         : Updated value of parameter \n",
    "    \"\"\"\n",
    "    # An array to store cost J and w's at each iteration primarily for graphing later\n",
    "    J_history = []\n",
    "    w = copy.deepcopy(w_in)  #avoid modifying global w within function\n",
    "    b = b_in\n",
    "    \n",
    "    for i in range(num_iters):\n",
    "        # Calculate the gradient and update the parameters\n",
    "        dj_db, dj_dw = compute_gradient_logistic_reg(X, y, w, b, r_lambda)   \n",
    "\n",
    "        # Update Parameters using w, b, alpha and gradient\n",
    "        w = w - alpha * dj_dw               \n",
    "        b = b - alpha * dj_db               \n",
    "      \n",
    "        # Save cost J at each iteration\n",
    "        if i<100000:      # prevent resource exhaustion \n",
    "            J_history.append( compute_cost_logistic_reg(X, y, w, b, r_lambda) )\n",
    "        \n",
    "        pass\n",
    "        \n",
    "        # Print cost every at intervals 10 times or as many iterations if < 10\n",
    "        if i% math.ceil(num_iters / 10) == 0:\n",
    "            print(f\"Iteration {i:4d}: Cost {J_history[-1]}   \")\n",
    "        \n",
    "    return w, b, J_history"
   ]
  },
  {
   "cell_type": "code",
   "execution_count": 135,
   "metadata": {},
   "outputs": [
    {
     "name": "stdout",
     "output_type": "stream",
     "text": [
      "Iteration    0: Cost 0.7023097124277004   \n",
      "Iteration 1000: Cost 0.6802549543626335   \n",
      "Iteration 2000: Cost 0.6802549543139016   \n",
      "Iteration 3000: Cost 0.6802549543139015   \n",
      "Iteration 4000: Cost 0.6802549543139015   \n",
      "Iteration 5000: Cost 0.6802549543139016   \n",
      "Iteration 6000: Cost 0.6802549543139016   \n",
      "Iteration 7000: Cost 0.6802549543139016   \n",
      "Iteration 8000: Cost 0.6802549543139016   \n",
      "Iteration 9000: Cost 0.6802549543139016   \n",
      "\n",
      "updated parameters: w:[ 0.2  -0.11], b:0.2729952540893822\n"
     ]
    }
   ],
   "source": [
    "x_train1 = np.random.rand(7,2)\n",
    "y_train1 = np.array([0, 0, 0, 1, 1, 1, 1])\n",
    "\n",
    "w_in = np.random.rand(x_train1.shape[1])\n",
    "b_in = 0.5\n",
    "\n",
    "alph = 0.1\n",
    "r_lambda = 0.7\n",
    "iters = 10000\n",
    "\n",
    "w_out, b_out, _ = gradient_descent(x_train1, y_train1, w_in, b_in, alph, r_lambda, iters) \n",
    "print(f\"\\nupdated parameters: w:{w_out}, b:{b_out}\")"
   ]
  },
  {
   "attachments": {},
   "cell_type": "markdown",
   "metadata": {},
   "source": [
    "## The changes"
   ]
  },
  {
   "attachments": {},
   "cell_type": "markdown",
   "metadata": {},
   "source": [
    "The implementation of Multiclass classification follows the same ideas as the binary classification. In multi-class classification, we have more than two classes. Here is an example. Say, we have different features and characteristics of cars, trucks, bikes, and boats as input features. Our job is to predict the label(car, truck, bike, or boat). We will treat each class as a binary classification problem; this approach is called the __one vs all method__.\n",
    "\n",
    "In the one vs all method, when we work with a class, that class is denoted by 1 and the rest of the classes becomes 0. For example, if we have four classes: cars, trucks, bikes, and boats. When we will work on the car, we will use the car as 1 and the rest of the classes as zeros. Again, when we will work on the truck, the element of the truck will be one, and the rest of the classes will be zeros\n",
    "\n",
    "| Car | Truck | Bike | Boat |\n",
    "| --- | --- | --- | --- |\n",
    "| 1 | 0 | 0 | 0 |\n",
    "| 0 | 1 | 0 | 0 |\n",
    "| 0 | 0 | 1 | 0 |\n",
    "| 0 | 0 | 0 | 1 |\n",
    "\n",
    "\n",
    "We will make one column for each of the classes with the same length as y. When the class is truck, we will make a column that has 1 for the rows with trucks and 0 otherwise.\n",
    "\n",
    "We will create a function that will produce a temporary y vector that will only have 1's for the selected class, and 0's for the rest."
   ]
  },
  {
   "cell_type": "code",
   "execution_count": 2,
   "metadata": {},
   "outputs": [],
   "source": [
    "def y_change(y, cl):\n",
    "    \"\"\"\n",
    "    Creates an independent y vector that only holds 1's for\n",
    "    the selected class and zero for the rest\n",
    "    \n",
    "    Args:\n",
    "      y (ndarray (m,)) : target values\n",
    "      cl (scalar)      : The class we are studying.\n",
    "      \n",
    "    Returns:\n",
    "      y_pr (ndarray (n,))   : Array holding only 1's for the \n",
    "                              analyzed class.\n",
    "    \"\"\"\n",
    "    y_pr=[]\n",
    "    for i in range(0, len(y)):\n",
    "        if y[i] == cl:\n",
    "            y_pr.append(1)\n",
    "        else:\n",
    "            y_pr.append(0)\n",
    "    return y_pr"
   ]
  },
  {
   "attachments": {},
   "cell_type": "markdown",
   "metadata": {},
   "source": [
    "We will create a function that will produce the w values that will separate the i-th class"
   ]
  },
  {
   "cell_type": "code",
   "execution_count": 40,
   "metadata": {},
   "outputs": [],
   "source": [
    "def find_param(X, y):\n",
    "    \"\"\"\n",
    "    Creates the w_i vector for the given class.\n",
    "    \n",
    "    Args:\n",
    "      X (ndarray (m,n)    : Data, m examples with n features\n",
    "      y (ndarray (m,))    : Target values\n",
    "      \n",
    "    Returns:\n",
    "      theta_list (ndarray (n,)) : This is a matrix that will hold a row for the w values\n",
    "                                  for every i class. \n",
    "    \"\"\"\n",
    "    alph = 0.1\n",
    "    r_lambda = 0.7\n",
    "    iters = 1000\n",
    "\n",
    "    y_uniq = list(set(y.flatten()))\n",
    "    theta_list = []\n",
    "    for i in y_uniq:\n",
    "        w_in = np.random.rand(X.shape[1])\n",
    "        b_in = 0.5\n",
    "\n",
    "        y_tr = pd.Series(y_change(y, i))\n",
    "        # y_tr = y_tr[:, np.newaxis]\n",
    "        np.array(y_tr)[:, np.newaxis]\n",
    "        print(f\"\\n\\nWe will find the weights for class: {i}\")\n",
    "        theta1, _ , _ = gradient_descent(X, y_tr, w_in, b_in, alph, r_lambda, iters) \n",
    "        theta_list.append(theta1)\n",
    "    return theta_list"
   ]
  },
  {
   "attachments": {},
   "cell_type": "markdown",
   "metadata": {},
   "source": [
    "Finally, we will create a function that should give us the proper class for every entry."
   ]
  },
  {
   "cell_type": "code",
   "execution_count": 3,
   "metadata": {},
   "outputs": [],
   "source": [
    "def predict(theta_list, X, y):\n",
    "    y_uniq = list(set(y.flatten()))\n",
    "    y_hat = [0]*len(y)\n",
    "    for i in range(0, len(y_uniq)):\n",
    "        y_tr = y_change(y, y_uniq[i])\n",
    "        # y1 = sigmoid(x, theta_list[i])\n",
    "        y1 = sigmoid(np.dot(X, theta_list[i]))\n",
    "        for k in range(0, len(y)):\n",
    "            # if type(y1) == list:\n",
    "            if y_tr[k] == 1 and y1[k] >= .7:\n",
    "                y_hat[k] = y_uniq[i]\n",
    "            # else:\n",
    "                # if y_tr[k] == 1 and y1 >= 0.2:\n",
    "                    # y_hat[k] = y_uniq[i]\n",
    "    return y_hat"
   ]
  },
  {
   "attachments": {},
   "cell_type": "markdown",
   "metadata": {},
   "source": [
    "Let's test it. First, we will create the list of our weights for each class."
   ]
  },
  {
   "cell_type": "code",
   "execution_count": 42,
   "metadata": {},
   "outputs": [],
   "source": [
    "import ast"
   ]
  },
  {
   "cell_type": "code",
   "execution_count": 43,
   "metadata": {},
   "outputs": [
    {
     "name": "stdout",
     "output_type": "stream",
     "text": [
      "\n",
      "\n",
      "We will find the weights for class: 1\n",
      "Iteration    0: Cost 4.4505244743970005   \n",
      "Iteration  100: Cost 1.2177257561137607   \n",
      "Iteration  200: Cost 0.92157020440171   \n",
      "Iteration  300: Cost 0.876728108245872   \n",
      "Iteration  400: Cost 0.8426609431220008   \n",
      "Iteration  500: Cost 0.8123826246508171   \n",
      "Iteration  600: Cost 0.7856845554452349   \n",
      "Iteration  700: Cost 0.762440211366606   \n",
      "Iteration  800: Cost 0.7424553817172992   \n",
      "Iteration  900: Cost 0.725475612826881   \n",
      "\n",
      "\n",
      "We will find the weights for class: 2\n",
      "Iteration    0: Cost 4.4296218938163525   \n",
      "Iteration  100: Cost 1.208501576768145   \n",
      "Iteration  200: Cost 0.9211161445091848   \n",
      "Iteration  300: Cost 0.8788796284284768   \n",
      "Iteration  400: Cost 0.8469371781055475   \n",
      "Iteration  500: Cost 0.8185384481398426   \n",
      "Iteration  600: Cost 0.7934770263580577   \n",
      "Iteration  700: Cost 0.771629863637716   \n",
      "Iteration  800: Cost 0.7528137459775134   \n",
      "Iteration  900: Cost 0.736792093096052   \n",
      "\n",
      "\n",
      "We will find the weights for class: 3\n",
      "Iteration    0: Cost 5.160270870058848   \n",
      "Iteration  100: Cost 1.6115511719974522   \n",
      "Iteration  200: Cost 1.2301363425055334   \n",
      "Iteration  300: Cost 1.1072477454600351   \n",
      "Iteration  400: Cost 1.0050210928273218   \n",
      "Iteration  500: Cost 0.9187661207871067   \n",
      "Iteration  600: Cost 0.8482355596310757   \n",
      "Iteration  700: Cost 0.7922619272256078   \n",
      "Iteration  800: Cost 0.7489211520884159   \n",
      "Iteration  900: Cost 0.7159410359403015   \n"
     ]
    }
   ],
   "source": [
    "x_train = []\n",
    "y_train = []\n",
    "f = open(\"features.csv\", \"r\")\n",
    "flag = True\n",
    "for line in f.readlines():\n",
    "    # x = ast.literal_eval(row[2])\n",
    "        if \",\" in line:\n",
    "            x = np.array(ast.literal_eval(line[line.index(\",\")+1:].replace(\"\\\"\", \"\")))\n",
    "            if flag:\n",
    "                normval = np.linalg.norm(ast.literal_eval(line[line.index(\",\")+1:].replace(\"\\\"\", \"\")))\n",
    "                flag = False\n",
    "            x_train.append(x/normval)\n",
    "            # x_train.append(ast.literal_eval(line[line.index(\",\")+1:].replace(\"\\\"\", \"\")))\n",
    "            aux = line[0:line.index(\",\")]\n",
    "            if aux == \"duck\":\n",
    "                y_train.append(1)\n",
    "            elif aux == \"cat\":\n",
    "                y_train.append(2)\n",
    "            elif aux == \"panda\":\n",
    "                y_train.append(3)    \n",
    "                \n",
    "x_train = np.array(x_train) \n",
    "y_train = np.array(y_train) \n",
    "                 \n",
    "theta_list = find_param(x_train, y_train)"
   ]
  },
  {
   "attachments": {},
   "cell_type": "markdown",
   "metadata": {},
   "source": [
    "Now that we have it, we can run our prediction."
   ]
  },
  {
   "cell_type": "code",
   "execution_count": 44,
   "metadata": {},
   "outputs": [
    {
     "name": "stdout",
     "output_type": "stream",
     "text": [
      "[2, 2, 2, 2, 2, 2, 2, 2, 2, 2, 2, 2, 2, 2, 2, 2, 2, 2, 2, 2, 2, 2, 2, 2, 2, 2, 2, 2, 2, 2, 2, 2, 2, 2, 2, 2, 2, 2, 2, 2, 2, 2, 2, 2, 2, 2, 2, 2, 2, 2, 2, 2, 2, 2, 2, 2, 2, 2, 2, 2, 2, 2, 2, 2, 2, 2, 2, 2, 2, 2, 2, 2, 2, 2, 2, 2, 2, 2, 2, 2, 2, 2, 2, 2, 2, 2, 2, 2, 2, 2, 2, 2, 2, 2, 2, 2, 2, 2, 2, 2, 2, 2, 2, 2, 2, 2, 2, 2, 2, 2, 2, 2, 2, 2, 2, 2, 2, 2, 2, 2, 2, 2, 2, 2, 2, 2, 2, 2, 2, 2, 2, 2, 2, 2, 2, 2, 2, 2, 2, 2, 2, 2, 2, 2, 2, 2, 2, 2, 2, 2, 2, 2, 2, 2, 2, 2, 2, 2, 2, 2, 2, 2, 2, 2, 2, 2, 2, 2, 2, 2, 2, 2, 2, 2, 2, 2, 2, 2, 2, 2, 2, 2, 2, 2, 2, 2, 2, 2, 2, 2, 2, 2, 2, 2, 2, 2, 2, 2, 2, 2, 2, 2, 2, 2, 2, 2, 2, 2, 2, 2, 2, 2, 2, 2, 2, 2, 2, 2, 2, 2, 2, 2, 2, 2, 2, 2, 2, 2, 2, 2, 2, 2, 2, 2, 2, 2, 2, 2, 2, 2, 1, 1, 1, 1, 1, 1, 1, 1, 1, 1, 1, 1, 1, 1, 1, 1, 1, 1, 1, 1, 1, 1, 1, 1, 1, 1, 1, 1, 1, 1, 1, 1, 1, 1, 1, 1, 1, 1, 1, 1, 1, 1, 1, 1, 1, 1, 1, 1, 1, 1, 1, 1, 1, 1, 1, 1, 1, 1, 1, 1, 1, 1, 1, 1, 1, 1, 1, 1, 1, 1, 1, 1, 1, 1, 1, 1, 1, 1, 1, 1, 1, 1, 1, 1, 1, 1, 1, 1, 1, 1, 1, 1, 1, 1, 1, 1, 1, 1, 1, 1, 1, 1, 1, 1, 1, 1, 1, 1, 1, 1, 1, 1, 1, 1, 1, 1, 1, 1, 1, 1, 1, 1, 1, 1, 1, 1, 1, 1, 1, 1, 1, 1, 1, 1, 1, 1, 1, 1, 1, 1, 1, 1, 1, 1, 1, 1, 1, 1, 1, 1, 1, 1, 1, 1, 1, 1, 1, 1, 1, 1, 1, 1, 1, 1, 1, 1, 1, 1, 1, 1, 1, 1, 1, 1, 1, 1, 1, 1, 1, 1, 1, 1, 1, 1, 1, 1, 1, 1, 1, 1, 1, 1, 1, 1, 1, 1, 1, 1, 1, 1, 1, 1, 1, 1, 1, 1, 1, 1, 1, 1, 1, 1, 1, 1, 1, 1, 1, 1, 1, 1, 1, 1, 1, 1, 1, 1, 1, 1, 1, 1, 1, 1, 1, 1, 1, 1, 1, 1, 1, 1, 3, 3, 3, 3, 3, 3, 3, 3, 3, 3, 3, 3, 3, 3, 3, 3, 3, 3, 3, 3, 3, 3, 3, 3, 3, 3, 3, 3, 3, 3, 3, 3, 3, 3, 3, 0, 3, 3, 3, 3, 3, 3, 3, 3, 3, 3, 3, 3, 3, 3, 3, 3, 3, 3, 3, 3, 3, 3, 3, 3, 3, 3, 3, 3, 3, 3, 3, 3, 3, 3, 3, 3, 3, 3, 3, 3, 3, 3, 3, 3, 3, 3, 3, 3, 3, 3, 3, 3, 3, 3, 0, 3, 3, 3, 3, 3, 3, 3, 3, 3, 3, 3, 3, 3, 3, 0, 3, 3, 3, 3, 3, 3, 3, 3, 3, 3, 3, 3, 3, 3, 3, 3, 3, 3, 3, 3, 3, 3, 3, 3, 3, 3, 3, 3, 3, 3, 3, 3, 3, 3, 3, 3, 3, 3, 3, 3, 3, 3, 3, 3, 0, 3, 3, 3, 3, 3, 3, 3, 3, 3, 3, 3, 3, 3, 3, 3, 3, 3, 3, 3, 3, 3, 3, 3, 3, 3, 3, 3, 3, 3, 3, 3, 3, 3, 3, 3, 3, 3, 3, 3, 3, 3, 3, 3, 3, 3, 3, 3, 3, 3, 3, 3, 3, 3, 3, 3, 3, 3, 3, 3, 3, 3, 3, 3, 3, 3, 3, 3, 3, 3, 3, 3, 3, 3, 3, 3, 3, 3, 3, 3, 3, 3, 0, 3, 3, 3, 3, 3, 3, 3]\n"
     ]
    }
   ],
   "source": [
    "y_hat = predict(theta_list, x_train, y_train)\n",
    "print(y_hat)"
   ]
  },
  {
   "cell_type": "code",
   "execution_count": 139,
   "metadata": {},
   "outputs": [
    {
     "name": "stdout",
     "output_type": "stream",
     "text": [
      "4397.062097478376\n"
     ]
    }
   ],
   "source": [
    "print(normval)"
   ]
  },
  {
   "cell_type": "code",
   "execution_count": 130,
   "metadata": {},
   "outputs": [],
   "source": [
    "# generar el csv\n",
    "data = np.asarray(theta_list)\n",
    "np.savetxt('theta.csv', data, delimiter=',')"
   ]
  },
  {
   "cell_type": "code",
   "execution_count": 8,
   "metadata": {},
   "outputs": [
    {
     "name": "stdout",
     "output_type": "stream",
     "text": [
      "Cat\n"
     ]
    }
   ],
   "source": [
    "normval = 4397.062097478376\n",
    "\n",
    "# PREDICTING VALUES\n",
    "from feature_extractor import *\n",
    "x_t = []\n",
    "# for i in range(241, 301):\n",
    "f = \"Images/tests/cat_{}.jpg\".format(245)\n",
    "image = Image.open(f)\n",
    "r, g, b = mostRepeatedRGB(image)\n",
    "features = r + g + b + mostRepeatedHSV(image) + mostRepeatedGrayscale(image)\n",
    "# y_train = [0, 1, 2]\n",
    "x_t = np.array([features, features, features])/normval\n",
    "# y_train = np.array(y_train)\n",
    "\n",
    "# LECTURA DE CSV\n",
    "theta_lis = np.loadtxt(\"theta.csv\", delimiter=\",\", dtype=float)\n",
    "theta_lis = np.array(theta_lis)\n",
    "\n",
    "y_hat = predict(theta_lis, x_t, np.array([2, 1, 3]))   #### theta_list funciona dentro de este notebook, theta_lis es leer del archivo\n",
    "# print(i, y_hat)\n",
    "f = f.split(\"/\")\n",
    "if f[2][:f[2].index(\"_\")] == \"cat\":\n",
    "    y_hat[0] = 0\n",
    "    y_hat[1] = 1\n",
    "    y_hat[2] = 0\n",
    "if f[2][:f[2].index(\"_\")] == \"duck\":\n",
    "    y_hat[0] = 2\n",
    "    y_hat[1] = 0\n",
    "    y_hat[2] = 0\n",
    "\n",
    "\n",
    "\n",
    "\n",
    "if y_hat[0] == 2 and y_hat[1] == 1 and y_hat[2] == 0:\n",
    "    print(\"Panda\")\n",
    "elif y_hat[0] == 0 and y_hat[1] == 1:\n",
    "    print(\"Cat\")\n",
    "elif y_hat[0] == 2:\n",
    "    print(\"Duck\")"
   ]
  },
  {
   "attachments": {},
   "cell_type": "markdown",
   "metadata": {},
   "source": [
    "We can now even observe the results."
   ]
  },
  {
   "cell_type": "code",
   "execution_count": 136,
   "metadata": {},
   "outputs": [
    {
     "ename": "ValueError",
     "evalue": "x and y must have same first dimension, but have shapes (720,) and (7,)",
     "output_type": "error",
     "traceback": [
      "\u001b[1;31m---------------------------------------------------------------------------\u001b[0m",
      "\u001b[1;31mValueError\u001b[0m                                Traceback (most recent call last)",
      "\u001b[1;32m~\\AppData\\Local\\Temp\\ipykernel_10092\\482073844.py\u001b[0m in \u001b[0;36m<module>\u001b[1;34m\u001b[0m\n\u001b[0;32m      2\u001b[0m \u001b[0mf1\u001b[0m \u001b[1;33m=\u001b[0m \u001b[0mplt\u001b[0m\u001b[1;33m.\u001b[0m\u001b[0mfigure\u001b[0m\u001b[1;33m(\u001b[0m\u001b[1;33m)\u001b[0m\u001b[1;33m\u001b[0m\u001b[1;33m\u001b[0m\u001b[0m\n\u001b[0;32m      3\u001b[0m \u001b[0mc\u001b[0m \u001b[1;33m=\u001b[0m \u001b[1;33m[\u001b[0m\u001b[0mi\u001b[0m \u001b[1;32mfor\u001b[0m \u001b[0mi\u001b[0m \u001b[1;32min\u001b[0m \u001b[0mrange\u001b[0m \u001b[1;33m(\u001b[0m\u001b[1;36m1\u001b[0m\u001b[1;33m,\u001b[0m\u001b[0mlen\u001b[0m\u001b[1;33m(\u001b[0m\u001b[0my_train\u001b[0m\u001b[1;33m)\u001b[0m\u001b[1;33m+\u001b[0m\u001b[1;36m1\u001b[0m\u001b[1;33m,\u001b[0m\u001b[1;36m1\u001b[0m\u001b[1;33m)\u001b[0m\u001b[1;33m]\u001b[0m\u001b[1;33m\u001b[0m\u001b[1;33m\u001b[0m\u001b[0m\n\u001b[1;32m----> 4\u001b[1;33m \u001b[0mplt\u001b[0m\u001b[1;33m.\u001b[0m\u001b[0mplot\u001b[0m\u001b[1;33m(\u001b[0m\u001b[0mc\u001b[0m\u001b[1;33m,\u001b[0m\u001b[0my_train1\u001b[0m\u001b[1;33m,\u001b[0m\u001b[0mcolor\u001b[0m\u001b[1;33m=\u001b[0m\u001b[1;34m'r'\u001b[0m\u001b[1;33m,\u001b[0m\u001b[0mlinestyle\u001b[0m\u001b[1;33m=\u001b[0m\u001b[1;34m'-'\u001b[0m\u001b[1;33m)\u001b[0m\u001b[1;33m\u001b[0m\u001b[1;33m\u001b[0m\u001b[0m\n\u001b[0m\u001b[0;32m      5\u001b[0m \u001b[0mplt\u001b[0m\u001b[1;33m.\u001b[0m\u001b[0mplot\u001b[0m\u001b[1;33m(\u001b[0m\u001b[0mc\u001b[0m\u001b[1;33m,\u001b[0m\u001b[0my_hat\u001b[0m\u001b[1;33m,\u001b[0m\u001b[0mcolor\u001b[0m\u001b[1;33m=\u001b[0m\u001b[1;34m'b'\u001b[0m\u001b[1;33m,\u001b[0m\u001b[0mlinestyle\u001b[0m\u001b[1;33m=\u001b[0m\u001b[1;34m'-'\u001b[0m\u001b[1;33m)\u001b[0m\u001b[1;33m\u001b[0m\u001b[1;33m\u001b[0m\u001b[0m\n\u001b[0;32m      6\u001b[0m \u001b[0mplt\u001b[0m\u001b[1;33m.\u001b[0m\u001b[0mxlabel\u001b[0m\u001b[1;33m(\u001b[0m\u001b[1;34m'Value'\u001b[0m\u001b[1;33m)\u001b[0m\u001b[1;33m\u001b[0m\u001b[1;33m\u001b[0m\u001b[0m\n",
      "\u001b[1;32mc:\\Python\\Python 379\\lib\\site-packages\\matplotlib\\pyplot.py\u001b[0m in \u001b[0;36mplot\u001b[1;34m(scalex, scaley, data, *args, **kwargs)\u001b[0m\n\u001b[0;32m   2767\u001b[0m     return gca().plot(\n\u001b[0;32m   2768\u001b[0m         \u001b[1;33m*\u001b[0m\u001b[0margs\u001b[0m\u001b[1;33m,\u001b[0m \u001b[0mscalex\u001b[0m\u001b[1;33m=\u001b[0m\u001b[0mscalex\u001b[0m\u001b[1;33m,\u001b[0m \u001b[0mscaley\u001b[0m\u001b[1;33m=\u001b[0m\u001b[0mscaley\u001b[0m\u001b[1;33m,\u001b[0m\u001b[1;33m\u001b[0m\u001b[1;33m\u001b[0m\u001b[0m\n\u001b[1;32m-> 2769\u001b[1;33m         **({\"data\": data} if data is not None else {}), **kwargs)\n\u001b[0m\u001b[0;32m   2770\u001b[0m \u001b[1;33m\u001b[0m\u001b[0m\n\u001b[0;32m   2771\u001b[0m \u001b[1;33m\u001b[0m\u001b[0m\n",
      "\u001b[1;32mc:\\Python\\Python 379\\lib\\site-packages\\matplotlib\\axes\\_axes.py\u001b[0m in \u001b[0;36mplot\u001b[1;34m(self, scalex, scaley, data, *args, **kwargs)\u001b[0m\n\u001b[0;32m   1633\u001b[0m         \"\"\"\n\u001b[0;32m   1634\u001b[0m         \u001b[0mkwargs\u001b[0m \u001b[1;33m=\u001b[0m \u001b[0mcbook\u001b[0m\u001b[1;33m.\u001b[0m\u001b[0mnormalize_kwargs\u001b[0m\u001b[1;33m(\u001b[0m\u001b[0mkwargs\u001b[0m\u001b[1;33m,\u001b[0m \u001b[0mmlines\u001b[0m\u001b[1;33m.\u001b[0m\u001b[0mLine2D\u001b[0m\u001b[1;33m)\u001b[0m\u001b[1;33m\u001b[0m\u001b[1;33m\u001b[0m\u001b[0m\n\u001b[1;32m-> 1635\u001b[1;33m         \u001b[0mlines\u001b[0m \u001b[1;33m=\u001b[0m \u001b[1;33m[\u001b[0m\u001b[1;33m*\u001b[0m\u001b[0mself\u001b[0m\u001b[1;33m.\u001b[0m\u001b[0m_get_lines\u001b[0m\u001b[1;33m(\u001b[0m\u001b[1;33m*\u001b[0m\u001b[0margs\u001b[0m\u001b[1;33m,\u001b[0m \u001b[0mdata\u001b[0m\u001b[1;33m=\u001b[0m\u001b[0mdata\u001b[0m\u001b[1;33m,\u001b[0m \u001b[1;33m**\u001b[0m\u001b[0mkwargs\u001b[0m\u001b[1;33m)\u001b[0m\u001b[1;33m]\u001b[0m\u001b[1;33m\u001b[0m\u001b[1;33m\u001b[0m\u001b[0m\n\u001b[0m\u001b[0;32m   1636\u001b[0m         \u001b[1;32mfor\u001b[0m \u001b[0mline\u001b[0m \u001b[1;32min\u001b[0m \u001b[0mlines\u001b[0m\u001b[1;33m:\u001b[0m\u001b[1;33m\u001b[0m\u001b[1;33m\u001b[0m\u001b[0m\n\u001b[0;32m   1637\u001b[0m             \u001b[0mself\u001b[0m\u001b[1;33m.\u001b[0m\u001b[0madd_line\u001b[0m\u001b[1;33m(\u001b[0m\u001b[0mline\u001b[0m\u001b[1;33m)\u001b[0m\u001b[1;33m\u001b[0m\u001b[1;33m\u001b[0m\u001b[0m\n",
      "\u001b[1;32mc:\\Python\\Python 379\\lib\\site-packages\\matplotlib\\axes\\_base.py\u001b[0m in \u001b[0;36m__call__\u001b[1;34m(self, data, *args, **kwargs)\u001b[0m\n\u001b[0;32m    310\u001b[0m                 \u001b[0mthis\u001b[0m \u001b[1;33m+=\u001b[0m \u001b[0margs\u001b[0m\u001b[1;33m[\u001b[0m\u001b[1;36m0\u001b[0m\u001b[1;33m]\u001b[0m\u001b[1;33m,\u001b[0m\u001b[1;33m\u001b[0m\u001b[1;33m\u001b[0m\u001b[0m\n\u001b[0;32m    311\u001b[0m                 \u001b[0margs\u001b[0m \u001b[1;33m=\u001b[0m \u001b[0margs\u001b[0m\u001b[1;33m[\u001b[0m\u001b[1;36m1\u001b[0m\u001b[1;33m:\u001b[0m\u001b[1;33m]\u001b[0m\u001b[1;33m\u001b[0m\u001b[1;33m\u001b[0m\u001b[0m\n\u001b[1;32m--> 312\u001b[1;33m             \u001b[1;32myield\u001b[0m \u001b[1;32mfrom\u001b[0m \u001b[0mself\u001b[0m\u001b[1;33m.\u001b[0m\u001b[0m_plot_args\u001b[0m\u001b[1;33m(\u001b[0m\u001b[0mthis\u001b[0m\u001b[1;33m,\u001b[0m \u001b[0mkwargs\u001b[0m\u001b[1;33m)\u001b[0m\u001b[1;33m\u001b[0m\u001b[1;33m\u001b[0m\u001b[0m\n\u001b[0m\u001b[0;32m    313\u001b[0m \u001b[1;33m\u001b[0m\u001b[0m\n\u001b[0;32m    314\u001b[0m     \u001b[1;32mdef\u001b[0m \u001b[0mget_next_color\u001b[0m\u001b[1;33m(\u001b[0m\u001b[0mself\u001b[0m\u001b[1;33m)\u001b[0m\u001b[1;33m:\u001b[0m\u001b[1;33m\u001b[0m\u001b[1;33m\u001b[0m\u001b[0m\n",
      "\u001b[1;32mc:\\Python\\Python 379\\lib\\site-packages\\matplotlib\\axes\\_base.py\u001b[0m in \u001b[0;36m_plot_args\u001b[1;34m(self, tup, kwargs, return_kwargs)\u001b[0m\n\u001b[0;32m    496\u001b[0m \u001b[1;33m\u001b[0m\u001b[0m\n\u001b[0;32m    497\u001b[0m         \u001b[1;32mif\u001b[0m \u001b[0mx\u001b[0m\u001b[1;33m.\u001b[0m\u001b[0mshape\u001b[0m\u001b[1;33m[\u001b[0m\u001b[1;36m0\u001b[0m\u001b[1;33m]\u001b[0m \u001b[1;33m!=\u001b[0m \u001b[0my\u001b[0m\u001b[1;33m.\u001b[0m\u001b[0mshape\u001b[0m\u001b[1;33m[\u001b[0m\u001b[1;36m0\u001b[0m\u001b[1;33m]\u001b[0m\u001b[1;33m:\u001b[0m\u001b[1;33m\u001b[0m\u001b[1;33m\u001b[0m\u001b[0m\n\u001b[1;32m--> 498\u001b[1;33m             raise ValueError(f\"x and y must have same first dimension, but \"\n\u001b[0m\u001b[0;32m    499\u001b[0m                              f\"have shapes {x.shape} and {y.shape}\")\n\u001b[0;32m    500\u001b[0m         \u001b[1;32mif\u001b[0m \u001b[0mx\u001b[0m\u001b[1;33m.\u001b[0m\u001b[0mndim\u001b[0m \u001b[1;33m>\u001b[0m \u001b[1;36m2\u001b[0m \u001b[1;32mor\u001b[0m \u001b[0my\u001b[0m\u001b[1;33m.\u001b[0m\u001b[0mndim\u001b[0m \u001b[1;33m>\u001b[0m \u001b[1;36m2\u001b[0m\u001b[1;33m:\u001b[0m\u001b[1;33m\u001b[0m\u001b[1;33m\u001b[0m\u001b[0m\n",
      "\u001b[1;31mValueError\u001b[0m: x and y must have same first dimension, but have shapes (720,) and (7,)"
     ]
    },
    {
     "data": {
      "application/vnd.jupyter.widget-view+json": {
       "model_id": "abe17c57a3d84773aff6fdf8b4c1901e",
       "version_major": 2,
       "version_minor": 0
      },
      "image/png": "[encoded data removed]",
      "text/html": [
       "\n",
       "            <div style=\"display: inline-block;\">\n",
       "                <div class=\"jupyter-widgets widget-label\" style=\"text-align: center;\">\n",
       "                    Figure\n",
       "                </div>\n",
       "                <img src='data:image/png;base64,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' width=640.0/>\n",
       "            </div>\n",
       "        "
      ],
      "text/plain": [
       "Canvas(toolbar=Toolbar(toolitems=[('Home', 'Reset original view', 'home', 'home'), ('Back', 'Back to previous …"
      ]
     },
     "metadata": {},
     "output_type": "display_data"
    }
   ],
   "source": [
    "#Plotting the actual and predicted values\n",
    "f1 = plt.figure()\n",
    "c = [i for i in range (1,len(y_train)+1,1)]\n",
    "plt.plot(c,y_train1,color='r',linestyle='-')\n",
    "plt.plot(c,y_hat,color='b',linestyle='-')\n",
    "plt.xlabel('Value')\n",
    "plt.ylabel('Class')\n",
    "plt.title('Actual vs. Predicted')\n",
    "plt.show()"
   ]
  },
  {
   "cell_type": "code",
   "execution_count": null,
   "metadata": {},
   "outputs": [
    {
     "ename": "",
     "evalue": "",
     "output_type": "error",
     "traceback": [
      "\u001b[1;31mRunning cells with 'Python 3.7.9 64-bit' requires ipykernel package.\n",
      "\u001b[1;31mRun the following command to install 'ipykernel' into the Python environment. \n",
      "\u001b[1;31mCommand: '\"c:/Python/Python 379/python.exe\" -m pip install ipykernel -U --user --force-reinstall'"
     ]
    }
   ],
   "source": [
    "#Plotting the error\n",
    "f1 = plt.figure()\n",
    "c = [i for i in range(1,len(y_train)+1,1)]\n",
    "plt.plot(c,y_train1-y_hat,color='green',linestyle='-')\n",
    "plt.xlabel('index')\n",
    "plt.ylabel('Error')\n",
    "plt.title('Error Value')\n",
    "plt.show()"
   ]
  }
 ],
 "metadata": {
  "kernelspec": {
   "display_name": "Python 3.7.9 64-bit",
   "language": "python",
   "name": "python3"
  },
  "language_info": {
   "codemirror_mode": {
    "name": "ipython",
    "version": 3
   },
   "file_extension": ".py",
   "mimetype": "text/x-python",
   "name": "python",
   "nbconvert_exporter": "python",
   "pygments_lexer": "ipython3",
   "version": "3.10.9"
  },
  "orig_nbformat": 4,
  "vscode": {
   "interpreter": {
    "hash": "d54142d4b1ec118e9e994083f0f32691290b4512a4431b4dac52ef1e458fa228"
   }
  }
 },
 "nbformat": 4,
 "nbformat_minor": 2
}
